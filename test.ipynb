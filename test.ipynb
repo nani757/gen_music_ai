{
 "cells": [
  {
   "cell_type": "code",
   "execution_count": 1,
   "metadata": {},
   "outputs": [
    {
     "name": "stdout",
     "output_type": "stream",
     "text": [
      "jai sri ganesh\n"
     ]
    }
   ],
   "source": [
    "print( \"jai sri ganesh\")"
   ]
  },
  {
   "cell_type": "code",
   "execution_count": 6,
   "metadata": {},
   "outputs": [
    {
     "name": "stdout",
     "output_type": "stream",
     "text": [
      "\u001b[?7l\u001b[1m\u001b[36m       /\\\n",
      "\u001b[36m      /  \\\n",
      "\u001b[36m     /\\   \\\n",
      "\u001b[34m    /      \\\n",
      "\u001b[34m   /   ,,   \\\n",
      "\u001b[34m  /   |  |  -\\\n",
      "\u001b[34m /_-''    ''-_\\\n",
      "\u001b[m\u001b[7A\u001b[18C\u001b[34;1m\u001b[35mbalgopal\u001b[37m@\u001b[35mbalgopal\u001b[m\u001b[32D\u001b[7C\u001b[37m\u001b[m\n",
      "\u001b[18C\u001b[34;1mos\u001b[m\u001b[2D\u001b[7C\u001b[37mArch Linux\u001b[m\n",
      "\u001b[18C\u001b[34;1mhost\u001b[m\u001b[4D\u001b[7C\u001b[37mOMEN HP Gaming Laptop 16-n0xxx\u001b[m\n",
      "\u001b[18C\u001b[34;1mkernel\u001b[m\u001b[6D\u001b[7C\u001b[37m6.7.4-arch1-1\u001b[m\n",
      "\u001b[18C\u001b[34;1muptime\u001b[m\u001b[6D\u001b[7C\u001b[37m1h 46m\u001b[m\n",
      "\u001b[18C\u001b[34;1mpkgs\u001b[m\u001b[4D\u001b[7C\u001b[37m1149\u001b[m\n",
      "\u001b[18C\u001b[34;1mmemory\u001b[m\u001b[6D\u001b[7C\u001b[37m10554M / 15193M\u001b[m\n",
      "\n",
      "\u001b[?7hRequirement already satisfied: tensorflow in ./personal_prj/lib/python3.11/site-packages (2.15.0.post1)\n",
      "Requirement already satisfied: keras in ./personal_prj/lib/python3.11/site-packages (2.15.0)\n",
      "Requirement already satisfied: absl-py>=1.0.0 in ./personal_prj/lib/python3.11/site-packages (from tensorflow) (2.1.0)\n",
      "Requirement already satisfied: astunparse>=1.6.0 in ./personal_prj/lib/python3.11/site-packages (from tensorflow) (1.6.3)\n",
      "Requirement already satisfied: flatbuffers>=23.5.26 in ./personal_prj/lib/python3.11/site-packages (from tensorflow) (23.5.26)\n",
      "Requirement already satisfied: gast!=0.5.0,!=0.5.1,!=0.5.2,>=0.2.1 in ./personal_prj/lib/python3.11/site-packages (from tensorflow) (0.5.4)\n",
      "Requirement already satisfied: google-pasta>=0.1.1 in ./personal_prj/lib/python3.11/site-packages (from tensorflow) (0.2.0)\n",
      "Requirement already satisfied: h5py>=2.9.0 in ./personal_prj/lib/python3.11/site-packages (from tensorflow) (3.10.0)\n",
      "Requirement already satisfied: libclang>=13.0.0 in ./personal_prj/lib/python3.11/site-packages (from tensorflow) (16.0.6)\n",
      "Requirement already satisfied: ml-dtypes~=0.2.0 in ./personal_prj/lib/python3.11/site-packages (from tensorflow) (0.2.0)\n",
      "Requirement already satisfied: numpy<2.0.0,>=1.23.5 in ./personal_prj/lib/python3.11/site-packages (from tensorflow) (1.26.4)\n",
      "Requirement already satisfied: opt-einsum>=2.3.2 in ./personal_prj/lib/python3.11/site-packages (from tensorflow) (3.3.0)\n",
      "Requirement already satisfied: packaging in ./personal_prj/lib/python3.11/site-packages (from tensorflow) (23.2)\n",
      "Requirement already satisfied: protobuf!=4.21.0,!=4.21.1,!=4.21.2,!=4.21.3,!=4.21.4,!=4.21.5,<5.0.0dev,>=3.20.3 in ./personal_prj/lib/python3.11/site-packages (from tensorflow) (4.25.2)\n",
      "Requirement already satisfied: setuptools in ./personal_prj/lib/python3.11/site-packages (from tensorflow) (65.5.0)\n",
      "Requirement already satisfied: six>=1.12.0 in ./personal_prj/lib/python3.11/site-packages (from tensorflow) (1.16.0)\n",
      "Requirement already satisfied: termcolor>=1.1.0 in ./personal_prj/lib/python3.11/site-packages (from tensorflow) (2.4.0)\n",
      "Requirement already satisfied: typing-extensions>=3.6.6 in ./personal_prj/lib/python3.11/site-packages (from tensorflow) (4.9.0)\n",
      "Requirement already satisfied: wrapt<1.15,>=1.11.0 in ./personal_prj/lib/python3.11/site-packages (from tensorflow) (1.14.1)\n",
      "Requirement already satisfied: tensorflow-io-gcs-filesystem>=0.23.1 in ./personal_prj/lib/python3.11/site-packages (from tensorflow) (0.36.0)\n",
      "Requirement already satisfied: grpcio<2.0,>=1.24.3 in ./personal_prj/lib/python3.11/site-packages (from tensorflow) (1.60.1)\n",
      "Requirement already satisfied: tensorboard<2.16,>=2.15 in ./personal_prj/lib/python3.11/site-packages (from tensorflow) (2.15.2)\n",
      "Requirement already satisfied: tensorflow-estimator<2.16,>=2.15.0 in ./personal_prj/lib/python3.11/site-packages (from tensorflow) (2.15.0)\n",
      "Requirement already satisfied: wheel<1.0,>=0.23.0 in ./personal_prj/lib/python3.11/site-packages (from astunparse>=1.6.0->tensorflow) (0.42.0)\n",
      "Requirement already satisfied: google-auth<3,>=1.6.3 in ./personal_prj/lib/python3.11/site-packages (from tensorboard<2.16,>=2.15->tensorflow) (2.27.0)\n",
      "Requirement already satisfied: google-auth-oauthlib<2,>=0.5 in ./personal_prj/lib/python3.11/site-packages (from tensorboard<2.16,>=2.15->tensorflow) (1.2.0)\n",
      "Requirement already satisfied: markdown>=2.6.8 in ./personal_prj/lib/python3.11/site-packages (from tensorboard<2.16,>=2.15->tensorflow) (3.5.2)\n",
      "Requirement already satisfied: requests<3,>=2.21.0 in ./personal_prj/lib/python3.11/site-packages (from tensorboard<2.16,>=2.15->tensorflow) (2.31.0)\n",
      "Requirement already satisfied: tensorboard-data-server<0.8.0,>=0.7.0 in ./personal_prj/lib/python3.11/site-packages (from tensorboard<2.16,>=2.15->tensorflow) (0.7.2)\n",
      "Requirement already satisfied: werkzeug>=1.0.1 in ./personal_prj/lib/python3.11/site-packages (from tensorboard<2.16,>=2.15->tensorflow) (3.0.1)\n",
      "Requirement already satisfied: cachetools<6.0,>=2.0.0 in ./personal_prj/lib/python3.11/site-packages (from google-auth<3,>=1.6.3->tensorboard<2.16,>=2.15->tensorflow) (5.3.2)\n",
      "Requirement already satisfied: pyasn1-modules>=0.2.1 in ./personal_prj/lib/python3.11/site-packages (from google-auth<3,>=1.6.3->tensorboard<2.16,>=2.15->tensorflow) (0.3.0)\n",
      "Requirement already satisfied: rsa<5,>=3.1.4 in ./personal_prj/lib/python3.11/site-packages (from google-auth<3,>=1.6.3->tensorboard<2.16,>=2.15->tensorflow) (4.9)\n",
      "Requirement already satisfied: requests-oauthlib>=0.7.0 in ./personal_prj/lib/python3.11/site-packages (from google-auth-oauthlib<2,>=0.5->tensorboard<2.16,>=2.15->tensorflow) (1.3.1)\n",
      "Requirement already satisfied: charset-normalizer<4,>=2 in ./personal_prj/lib/python3.11/site-packages (from requests<3,>=2.21.0->tensorboard<2.16,>=2.15->tensorflow) (3.3.2)\n",
      "Requirement already satisfied: idna<4,>=2.5 in ./personal_prj/lib/python3.11/site-packages (from requests<3,>=2.21.0->tensorboard<2.16,>=2.15->tensorflow) (3.6)\n",
      "Requirement already satisfied: urllib3<3,>=1.21.1 in ./personal_prj/lib/python3.11/site-packages (from requests<3,>=2.21.0->tensorboard<2.16,>=2.15->tensorflow) (2.2.0)\n",
      "Requirement already satisfied: certifi>=2017.4.17 in ./personal_prj/lib/python3.11/site-packages (from requests<3,>=2.21.0->tensorboard<2.16,>=2.15->tensorflow) (2024.2.2)\n",
      "Requirement already satisfied: MarkupSafe>=2.1.1 in ./personal_prj/lib/python3.11/site-packages (from werkzeug>=1.0.1->tensorboard<2.16,>=2.15->tensorflow) (2.1.5)\n",
      "Requirement already satisfied: pyasn1<0.6.0,>=0.4.6 in ./personal_prj/lib/python3.11/site-packages (from pyasn1-modules>=0.2.1->google-auth<3,>=1.6.3->tensorboard<2.16,>=2.15->tensorflow) (0.5.1)\n",
      "Requirement already satisfied: oauthlib>=3.0.0 in ./personal_prj/lib/python3.11/site-packages (from requests-oauthlib>=0.7.0->google-auth-oauthlib<2,>=0.5->tensorboard<2.16,>=2.15->tensorflow) (3.2.2)\n"
     ]
    }
   ],
   "source": [
    "!pip install tensorflow keras"
   ]
  },
  {
   "cell_type": "code",
   "execution_count": 7,
   "metadata": {},
   "outputs": [
    {
     "name": "stdout",
     "output_type": "stream",
     "text": [
      "\u001b[?7l\u001b[1m\u001b[36m       /\\\n",
      "\u001b[36m      /  \\\n",
      "\u001b[36m     /\\   \\\n",
      "\u001b[34m    /      \\\n",
      "\u001b[34m   /   ,,   \\\n",
      "\u001b[34m  /   |  |  -\\\n",
      "\u001b[34m /_-''    ''-_\\\n",
      "\u001b[m\u001b[7A\u001b[18C\u001b[34;1m\u001b[35mbalgopal\u001b[37m@\u001b[35mbalgopal\u001b[m\u001b[32D\u001b[7C\u001b[37m\u001b[m\n",
      "\u001b[18C\u001b[34;1mos\u001b[m\u001b[2D\u001b[7C\u001b[37mArch Linux\u001b[m\n",
      "\u001b[18C\u001b[34;1mhost\u001b[m\u001b[4D\u001b[7C\u001b[37mOMEN HP Gaming Laptop 16-n0xxx\u001b[m\n",
      "\u001b[18C\u001b[34;1mkernel\u001b[m\u001b[6D\u001b[7C\u001b[37m6.7.4-arch1-1\u001b[m\n",
      "\u001b[18C\u001b[34;1muptime\u001b[m\u001b[6D\u001b[7C\u001b[37m1h 46m\u001b[m\n",
      "\u001b[18C\u001b[34;1mpkgs\u001b[m\u001b[4D\u001b[7C\u001b[37m1149\u001b[m\n",
      "\u001b[18C\u001b[34;1mmemory\u001b[m\u001b[6D\u001b[7C\u001b[37m10616M / 15193M\u001b[m\n",
      "\n",
      "\u001b[?7hRequirement already satisfied: pip in ./personal_prj/lib/python3.11/site-packages (24.0)\n"
     ]
    }
   ],
   "source": [
    " !pip install --upgrade pip"
   ]
  },
  {
   "cell_type": "code",
   "execution_count": null,
   "metadata": {},
   "outputs": [],
   "source": []
  },
  {
   "cell_type": "code",
   "execution_count": null,
   "metadata": {},
   "outputs": [],
   "source": []
  },
  {
   "cell_type": "code",
   "execution_count": null,
   "metadata": {},
   "outputs": [],
   "source": []
  },
  {
   "cell_type": "code",
   "execution_count": null,
   "metadata": {},
   "outputs": [],
   "source": []
  },
  {
   "cell_type": "code",
   "execution_count": 13,
   "metadata": {},
   "outputs": [
    {
     "ename": "Error",
     "evalue": "file does not start with RIFF id",
     "output_type": "error",
     "traceback": [
      "\u001b[0;31m---------------------------------------------------------------------------\u001b[0m",
      "\u001b[0;31mError\u001b[0m                                     Traceback (most recent call last)",
      "Cell \u001b[0;32mIn[13], line 6\u001b[0m\n\u001b[1;32m      1\u001b[0m \u001b[38;5;66;03m# !pip install pygame\u001b[39;00m\n\u001b[1;32m      2\u001b[0m \u001b[38;5;66;03m# !pip install simpleaudio\u001b[39;00m\n\u001b[1;32m      4\u001b[0m \u001b[38;5;28;01mimport\u001b[39;00m \u001b[38;5;21;01msimpleaudio\u001b[39;00m \u001b[38;5;28;01mas\u001b[39;00m \u001b[38;5;21;01msa\u001b[39;00m\n\u001b[0;32m----> 6\u001b[0m wave_obj \u001b[38;5;241m=\u001b[39m \u001b[43msa\u001b[49m\u001b[38;5;241;43m.\u001b[39;49m\u001b[43mWaveObject\u001b[49m\u001b[38;5;241;43m.\u001b[39;49m\u001b[43mfrom_wave_file\u001b[49m\u001b[43m(\u001b[49m\u001b[38;5;124;43m'\u001b[39;49m\u001b[38;5;124;43mtest.mp3\u001b[39;49m\u001b[38;5;124;43m'\u001b[39;49m\u001b[43m)\u001b[49m\n\u001b[1;32m      7\u001b[0m play_obj \u001b[38;5;241m=\u001b[39m wave_obj\u001b[38;5;241m.\u001b[39mplay()\n\u001b[1;32m      8\u001b[0m play_obj\u001b[38;5;241m.\u001b[39mwait_done()\n",
      "File \u001b[0;32m~/code/ai/audio/personal_voice/personal_prj/lib/python3.11/site-packages/simpleaudio/shiny.py:24\u001b[0m, in \u001b[0;36mWaveObject.from_wave_file\u001b[0;34m(cls, wave_file)\u001b[0m\n\u001b[1;32m     22\u001b[0m \u001b[38;5;129m@classmethod\u001b[39m\n\u001b[1;32m     23\u001b[0m \u001b[38;5;28;01mdef\u001b[39;00m \u001b[38;5;21mfrom_wave_file\u001b[39m(\u001b[38;5;28mcls\u001b[39m, wave_file):\n\u001b[0;32m---> 24\u001b[0m     wave_read \u001b[38;5;241m=\u001b[39m \u001b[43mwave\u001b[49m\u001b[38;5;241;43m.\u001b[39;49m\u001b[43mopen\u001b[49m\u001b[43m(\u001b[49m\u001b[43mwave_file\u001b[49m\u001b[43m,\u001b[49m\u001b[43m \u001b[49m\u001b[38;5;124;43m'\u001b[39;49m\u001b[38;5;124;43mrb\u001b[39;49m\u001b[38;5;124;43m'\u001b[39;49m\u001b[43m)\u001b[49m\n\u001b[1;32m     25\u001b[0m     wave_obj \u001b[38;5;241m=\u001b[39m \u001b[38;5;28mcls\u001b[39m\u001b[38;5;241m.\u001b[39mfrom_wave_read(wave_read)\n\u001b[1;32m     26\u001b[0m     wave_read\u001b[38;5;241m.\u001b[39mclose()\n",
      "File \u001b[0;32m/usr/lib/python3.11/wave.py:631\u001b[0m, in \u001b[0;36mopen\u001b[0;34m(f, mode)\u001b[0m\n\u001b[1;32m    629\u001b[0m         mode \u001b[38;5;241m=\u001b[39m \u001b[38;5;124m'\u001b[39m\u001b[38;5;124mrb\u001b[39m\u001b[38;5;124m'\u001b[39m\n\u001b[1;32m    630\u001b[0m \u001b[38;5;28;01mif\u001b[39;00m mode \u001b[38;5;129;01min\u001b[39;00m (\u001b[38;5;124m'\u001b[39m\u001b[38;5;124mr\u001b[39m\u001b[38;5;124m'\u001b[39m, \u001b[38;5;124m'\u001b[39m\u001b[38;5;124mrb\u001b[39m\u001b[38;5;124m'\u001b[39m):\n\u001b[0;32m--> 631\u001b[0m     \u001b[38;5;28;01mreturn\u001b[39;00m \u001b[43mWave_read\u001b[49m\u001b[43m(\u001b[49m\u001b[43mf\u001b[49m\u001b[43m)\u001b[49m\n\u001b[1;32m    632\u001b[0m \u001b[38;5;28;01melif\u001b[39;00m mode \u001b[38;5;129;01min\u001b[39;00m (\u001b[38;5;124m'\u001b[39m\u001b[38;5;124mw\u001b[39m\u001b[38;5;124m'\u001b[39m, \u001b[38;5;124m'\u001b[39m\u001b[38;5;124mwb\u001b[39m\u001b[38;5;124m'\u001b[39m):\n\u001b[1;32m    633\u001b[0m     \u001b[38;5;28;01mreturn\u001b[39;00m Wave_write(f)\n",
      "File \u001b[0;32m/usr/lib/python3.11/wave.py:283\u001b[0m, in \u001b[0;36mWave_read.__init__\u001b[0;34m(self, f)\u001b[0m\n\u001b[1;32m    281\u001b[0m \u001b[38;5;66;03m# else, assume it is an open file object already\u001b[39;00m\n\u001b[1;32m    282\u001b[0m \u001b[38;5;28;01mtry\u001b[39;00m:\n\u001b[0;32m--> 283\u001b[0m     \u001b[38;5;28;43mself\u001b[39;49m\u001b[38;5;241;43m.\u001b[39;49m\u001b[43minitfp\u001b[49m\u001b[43m(\u001b[49m\u001b[43mf\u001b[49m\u001b[43m)\u001b[49m\n\u001b[1;32m    284\u001b[0m \u001b[38;5;28;01mexcept\u001b[39;00m:\n\u001b[1;32m    285\u001b[0m     \u001b[38;5;28;01mif\u001b[39;00m \u001b[38;5;28mself\u001b[39m\u001b[38;5;241m.\u001b[39m_i_opened_the_file:\n",
      "File \u001b[0;32m/usr/lib/python3.11/wave.py:250\u001b[0m, in \u001b[0;36mWave_read.initfp\u001b[0;34m(self, file)\u001b[0m\n\u001b[1;32m    248\u001b[0m \u001b[38;5;28mself\u001b[39m\u001b[38;5;241m.\u001b[39m_file \u001b[38;5;241m=\u001b[39m _Chunk(file, bigendian \u001b[38;5;241m=\u001b[39m \u001b[38;5;241m0\u001b[39m)\n\u001b[1;32m    249\u001b[0m \u001b[38;5;28;01mif\u001b[39;00m \u001b[38;5;28mself\u001b[39m\u001b[38;5;241m.\u001b[39m_file\u001b[38;5;241m.\u001b[39mgetname() \u001b[38;5;241m!=\u001b[39m \u001b[38;5;124mb\u001b[39m\u001b[38;5;124m'\u001b[39m\u001b[38;5;124mRIFF\u001b[39m\u001b[38;5;124m'\u001b[39m:\n\u001b[0;32m--> 250\u001b[0m     \u001b[38;5;28;01mraise\u001b[39;00m Error(\u001b[38;5;124m'\u001b[39m\u001b[38;5;124mfile does not start with RIFF id\u001b[39m\u001b[38;5;124m'\u001b[39m)\n\u001b[1;32m    251\u001b[0m \u001b[38;5;28;01mif\u001b[39;00m \u001b[38;5;28mself\u001b[39m\u001b[38;5;241m.\u001b[39m_file\u001b[38;5;241m.\u001b[39mread(\u001b[38;5;241m4\u001b[39m) \u001b[38;5;241m!=\u001b[39m \u001b[38;5;124mb\u001b[39m\u001b[38;5;124m'\u001b[39m\u001b[38;5;124mWAVE\u001b[39m\u001b[38;5;124m'\u001b[39m:\n\u001b[1;32m    252\u001b[0m     \u001b[38;5;28;01mraise\u001b[39;00m Error(\u001b[38;5;124m'\u001b[39m\u001b[38;5;124mnot a WAVE file\u001b[39m\u001b[38;5;124m'\u001b[39m)\n",
      "\u001b[0;31mError\u001b[0m: file does not start with RIFF id"
     ]
    }
   ],
   "source": [
    "# !pip install pygame\n",
    "# !pip install simpleaudio\n",
    "\n",
    "import simpleaudio as sa\n",
    "\n",
    "wave_obj = sa.WaveObject.from_wave_file('test.mp3')\n",
    "play_obj = wave_obj.play()\n",
    "play_obj.wait_done()\n"
   ]
  },
  {
   "cell_type": "code",
   "execution_count": 5,
   "metadata": {},
   "outputs": [
    {
     "name": "stdout",
     "output_type": "stream",
     "text": [
      "\u001b[?7l\u001b[1m\u001b[36m       /\\\n",
      "\u001b[36m      /  \\\n",
      "\u001b[36m     /\\   \\\n",
      "\u001b[34m    /      \\\n",
      "\u001b[34m   /   ,,   \\\n",
      "\u001b[34m  /   |  |  -\\\n",
      "\u001b[34m /_-''    ''-_\\\n",
      "\u001b[m\u001b[7A\u001b[18C\u001b[34;1m\u001b[35mbalgopal\u001b[37m@\u001b[35mbalgopal\u001b[m\u001b[32D\u001b[7C\u001b[37m\u001b[m\n",
      "\u001b[18C\u001b[34;1mos\u001b[m\u001b[2D\u001b[7C\u001b[37mArch Linux\u001b[m\n",
      "\u001b[18C\u001b[34;1mhost\u001b[m\u001b[4D\u001b[7C\u001b[37mOMEN HP Gaming Laptop 16-n0xxx\u001b[m\n",
      "\u001b[18C\u001b[34;1mkernel\u001b[m\u001b[6D\u001b[7C\u001b[37m6.7.4-arch1-1\u001b[m\n",
      "\u001b[18C\u001b[34;1muptime\u001b[m\u001b[6D\u001b[7C\u001b[37m3m\u001b[m\n",
      "\u001b[18C\u001b[34;1mpkgs\u001b[m\u001b[4D\u001b[7C\u001b[37m914\u001b[m\n",
      "\u001b[18C\u001b[34;1mmemory\u001b[m\u001b[6D\u001b[7C\u001b[37m7636M / 15193M\u001b[m\n",
      "\n",
      "\u001b[?7hCollecting pydub\n",
      "  Downloading pydub-0.25.1-py2.py3-none-any.whl (32 kB)\n",
      "Collecting simpleaudio\n",
      "  Downloading simpleaudio-1.0.4.tar.gz (2.0 MB)\n",
      "\u001b[2K     \u001b[90m━━━━━━━━━━━━━━━━━━━━━━━━━━━━━━━━━━━━━━━━\u001b[0m \u001b[32m2.0/2.0 MB\u001b[0m \u001b[31m1.6 MB/s\u001b[0m eta \u001b[36m0:00:00\u001b[0m00:01\u001b[0m00:01\u001b[0m0m\n",
      "\u001b[?25h  Preparing metadata (setup.py) ... \u001b[?25ldone\n",
      "\u001b[?25hBuilding wheels for collected packages: simpleaudio\n",
      "  Building wheel for simpleaudio (setup.py) ... \u001b[?25ldone\n",
      "\u001b[?25h  Created wheel for simpleaudio: filename=simpleaudio-1.0.4-cp311-cp311-linux_x86_64.whl size=2054104 sha256=c641cdb0bc9223a512ae8fb76b1524365843c4d75af99f93904883a5bc12d3c9\n",
      "  Stored in directory: /home/balgopal/.cache/pip/wheels/44/74/11/9d2cf6ddf5d0dcc7750484a371b92fdb036f5496d1d4b42d08\n",
      "Successfully built simpleaudio\n",
      "Installing collected packages: simpleaudio, pydub\n",
      "Successfully installed pydub-0.25.1 simpleaudio-1.0.4\n"
     ]
    }
   ],
   "source": [
    "# !pip install pygame\n",
    "# !pip install --upgrade pygame\n",
    "# !pip install pydub simpleaudio\n",
    "\n"
   ]
  },
  {
   "cell_type": "code",
   "execution_count": 4,
   "metadata": {},
   "outputs": [
    {
     "name": "stdout",
     "output_type": "stream",
     "text": [
      "\u001b[?7l\u001b[1m\u001b[36m       /\\\n",
      "\u001b[36m      /  \\\n",
      "\u001b[36m     /\\   \\\n",
      "\u001b[34m    /      \\\n",
      "\u001b[34m   /   ,,   \\\n",
      "\u001b[34m  /   |  |  -\\\n",
      "\u001b[34m /_-''    ''-_\\\n",
      "\u001b[m\u001b[7A\u001b[18C\u001b[34;1m\u001b[35mbalgopal\u001b[37m@\u001b[35mbalgopal\u001b[m\u001b[32D\u001b[7C\u001b[37m\u001b[m\n",
      "\u001b[18C\u001b[34;1mos\u001b[m\u001b[2D\u001b[7C\u001b[37mArch Linux\u001b[m\n",
      "\u001b[18C\u001b[34;1mhost\u001b[m\u001b[4D\u001b[7C\u001b[37mOMEN HP Gaming Laptop 16-n0xxx\u001b[m\n",
      "\u001b[18C\u001b[34;1mkernel\u001b[m\u001b[6D\u001b[7C\u001b[37m6.7.4-arch1-1\u001b[m\n",
      "\u001b[18C\u001b[34;1muptime\u001b[m\u001b[6D\u001b[7C\u001b[37m1h 35m\u001b[m\n",
      "\u001b[18C\u001b[34;1mpkgs\u001b[m\u001b[4D\u001b[7C\u001b[37m926\u001b[m\n",
      "\u001b[18C\u001b[34;1mmemory\u001b[m\u001b[6D\u001b[7C\u001b[37m14577M / 15193M\u001b[m\n",
      "\n",
      "\u001b[?7hCollecting wget\n",
      "  Downloading wget-3.2.zip (10 kB)\n",
      "  Preparing metadata (setup.py) ... \u001b[?25ldone\n",
      "\u001b[?25hBuilding wheels for collected packages: wget\n",
      "  Building wheel for wget (setup.py) ... \u001b[?25ldone\n",
      "\u001b[?25h  Created wheel for wget: filename=wget-3.2-py3-none-any.whl size=9655 sha256=c272e4569d34d72e3aa36d2dd7ee21d75e5234467283a8aa8e37d1e8b23a2441\n",
      "  Stored in directory: /home/balgopal/.cache/pip/wheels/40/b3/0f/a40dbd1c6861731779f62cc4babcb234387e11d697df70ee97\n",
      "Successfully built wget\n",
      "Installing collected packages: wget\n",
      "Successfully installed wget-3.2\n"
     ]
    }
   ],
   "source": [
    "# !pip3 install beautifulsoup4\n",
    "!pip install wget"
   ]
  },
  {
   "cell_type": "code",
   "execution_count": 5,
   "metadata": {},
   "outputs": [],
   "source": [
    "import requests\n",
    "from bs4 import BeautifulSoup\n",
    "import wget\n",
    "\n",
    "url = 'https://www.jiosaavn.com/shows/audio-books/1/CpgUGivQg2Q_'\n",
    "response = requests.get(url)\n",
    "soup = BeautifulSoup(response.text, 'html.parser')\n",
    "\n",
    "# Assuming the audio links have a specific class or attribute\n",
    "audio_links = soup.find_all('a', {'class': 'audio-link-class'})\n",
    "\n",
    "for link in audio_links:\n",
    "    audio_url = link['href']\n",
    "    # Download the audio file\n",
    "    wget.download(audio_url)\n"
   ]
  },
  {
   "cell_type": "code",
   "execution_count": null,
   "metadata": {},
   "outputs": [],
   "source": []
  }
 ],
 "metadata": {
  "kernelspec": {
   "display_name": "personal_prj",
   "language": "python",
   "name": "python3"
  },
  "language_info": {
   "codemirror_mode": {
    "name": "ipython",
    "version": 3
   },
   "file_extension": ".py",
   "mimetype": "text/x-python",
   "name": "python",
   "nbconvert_exporter": "python",
   "pygments_lexer": "ipython3",
   "version": "3.11.7"
  }
 },
 "nbformat": 4,
 "nbformat_minor": 2
}
